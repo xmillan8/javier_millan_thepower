{
 "cells": [
  {
   "cell_type": "markdown",
   "metadata": {},
   "source": [
    "## PROYECTO LÓGICA: Katas de Python"
   ]
  },
  {
   "cell_type": "markdown",
   "metadata": {},
   "source": [
    "1. Escribe una función que reciba una cadena de texto como parámetro y devuelva un diccionario con las frecuencias de cada letra en la cadena. Los espacios no deben ser considerados."
   ]
  },
  {
   "cell_type": "code",
   "execution_count": null,
   "metadata": {},
   "outputs": [],
   "source": [
    "def contar_frecuencias(cadena):\n",
    "    \"\"\"\n",
    "    Función que reciba una cadena de texto como parámetro y devuelva un diccionario con las frecuencias\n",
    "\n",
    "    Args:\n",
    "        cadena (str): una cadena cualquiera\n",
    "\n",
    "    Returns:\n",
    "        dict: un diccionario con las frecuencias de la cadena\n",
    "    \"\"\"\n",
    "    \n",
    "    frecuencias = {}\n",
    "    \n",
    "    for letra in cadena.replace(\" \",\"\"):\n",
    "        if letra in frecuencias:\n",
    "            frecuencias[letra] += 1\n",
    "        else: frecuencias[letra] = 1\n",
    "    return frecuencias\n",
    "\n",
    "cadena_prueba = \"Hola Mundo\"\n",
    "resultado1 = contar_frecuencias(cadena_prueba)\n",
    "print(resultado1)"
   ]
  },
  {
   "cell_type": "markdown",
   "metadata": {},
   "source": [
    "2. Dada una lista de números, obtén una nueva lista con el doble de cada valor. Usa la función map()"
   ]
  },
  {
   "cell_type": "code",
   "execution_count": null,
   "metadata": {},
   "outputs": [],
   "source": [
    "numeros = [1,2,3,4,5]\n",
    "resultado_map_lambda = list(map(lambda x: x**2,numeros))\n",
    "print(resultado_map_lambda)"
   ]
  },
  {
   "cell_type": "markdown",
   "metadata": {},
   "source": [
    "3. Escribe una función que tome una lista de palabras y una palabra objetivo como parámetros. La función debe devolver una lista con todas las palabras de la lista original que contengan la palabra objetivo."
   ]
  },
  {
   "cell_type": "code",
   "execution_count": 7,
   "metadata": {},
   "outputs": [
    {
     "name": "stdout",
     "output_type": "stream",
     "text": [
      "['manzana', 'mandarina']\n"
     ]
    }
   ],
   "source": [
    "def devolver_lista_con_palabra_objetivo(lista_palabras, palabra_objetivo):\n",
    "    \"\"\"\n",
    "    Devolver una lista con todas las palabras de la lista original que contengan la palabra objetivo\n",
    "\n",
    "    Args:\n",
    "        lista_palabras (list): lista de palabras\n",
    "        palabra_objetivo (str): palabra objetivo\n",
    "\n",
    "    Returns:\n",
    "        list: lista con palabras que coincidan con la palabra objetivo\n",
    "    \"\"\"\n",
    "    resultado = []\n",
    "    \n",
    "    for palabra in lista_palabras:\n",
    "        if palabra_objetivo in palabra:\n",
    "            resultado.append(palabra)\n",
    "    return resultado\n",
    "\n",
    "lista = [\"manzana\", \"platano\", \"naranja\", \"mandarina\", \"sandia\"]\n",
    "objetivo = \"man\"\n",
    "resultado = devolver_lista_con_palabra_objetivo(lista, objetivo)\n",
    "print(resultado)\n"
   ]
  },
  {
   "cell_type": "markdown",
   "metadata": {},
   "source": [
    "4. Genera una función que calcule la diferencia entre los valores de dos listas. Usa la función map()"
   ]
  },
  {
   "cell_type": "code",
   "execution_count": 10,
   "metadata": {},
   "outputs": [
    {
     "name": "stdout",
     "output_type": "stream",
     "text": [
      "[9, 18, 27, 36]\n"
     ]
    }
   ],
   "source": [
    "def diferencia_valores(lista1,lista2):\n",
    "    \"\"\"\n",
    "    Genera una función que calcule la diferencia entre los valores de dos listas\n",
    "\n",
    "    Args:\n",
    "        lista1 (list): lista de valores 1\n",
    "        lista2 (list): lista de valores 2\n",
    "\n",
    "    Returns:\n",
    "        list: diferencia entre los valores de dos listas\n",
    "    \"\"\"\n",
    "    return list(map(lambda x, y: x - y, lista1, lista2))\n",
    "\n",
    "lista1 = [10, 20, 30, 40]\n",
    "lista2 = [1, 2, 3, 4]\n",
    "resultado = diferencia_valores(lista1, lista2)\n",
    "print(resultado)"
   ]
  },
  {
   "cell_type": "markdown",
   "metadata": {},
   "source": [
    "5. Escribe una función que tome una lista de números como parámetro y un valor opcional nota_aprobado, que por defecto es 5. La función debe calcular la media de los números en la lista y determinar si la media es mayor o igual que nota aprobado. Si es así, el estado será \"aprobado\", de lo contrario, será \"suspenso\". La función debe devolver una tupla que contenga la media y el estado."
   ]
  },
  {
   "cell_type": "code",
   "execution_count": 16,
   "metadata": {},
   "outputs": [
    {
     "name": "stdout",
     "output_type": "stream",
     "text": [
      "(6.0, 'aprobado')\n"
     ]
    }
   ],
   "source": [
    "def media_numeros_aprobado(lista_numeros,nota_aprobado = 5):\n",
    "    \"\"\"Calcular la media y el estado de un listado de numeros\n",
    "\n",
    "    Args:\n",
    "        lista_numeros (int): lista de números\n",
    "        nota_aprobado (int, optional): nota de aprobado de 5\n",
    "\n",
    "    Returns:\n",
    "        tuple: la media de notas y el estado\n",
    "    \"\"\"\n",
    "    media = sum(lista_numeros) / len(lista_numeros)\n",
    "                                     \n",
    "    if media >= nota_aprobado:\n",
    "        estado = \"aprobado\"\n",
    "    else:\n",
    "        estado = \"suspenso\"\n",
    "    return (media, estado)\n",
    "        \n",
    "                                    \n",
    "lista = [6, 7, 8, 5, 4]\n",
    "nota_aprobado = 5\n",
    "resultado = media_numeros_aprobado(lista, nota_aprobado)\n",
    "print(resultado)"
   ]
  },
  {
   "cell_type": "markdown",
   "metadata": {},
   "source": [
    "6. Escribe una función que calcule el factorial de un número de manera recursiva."
   ]
  },
  {
   "cell_type": "code",
   "execution_count": 31,
   "metadata": {},
   "outputs": [
    {
     "name": "stdout",
     "output_type": "stream",
     "text": [
      "120\n"
     ]
    }
   ],
   "source": [
    "def factorial(inicio):\n",
    "    \"\"\"\n",
    "    Calcular el factorial de un número\n",
    "\n",
    "    Args:\n",
    "        inicio (int): número aleatorio\n",
    "\n",
    "    Returns:\n",
    "        int: factorial de un número aleatorio\n",
    "    \"\"\"\n",
    "    if inicio == 1:\n",
    "        return 1\n",
    "\n",
    "    siguiente = inicio - 1\n",
    "    return inicio * factorial(siguiente)\n",
    "\n",
    "numero = 5\n",
    "resultado = factorial(numero)\n",
    "print(resultado)"
   ]
  },
  {
   "cell_type": "markdown",
   "metadata": {},
   "source": [
    "********7. Genera una función que convierta una lista de tuplas a una lista de strings. Usa la función map()"
   ]
  },
  {
   "cell_type": "code",
   "execution_count": null,
   "metadata": {},
   "outputs": [],
   "source": [
    "# No lo se hacer\n",
    "\n",
    "def conversion_lista_tuplas_a_lista_strings(lista_tuplas):\n",
    "    resultado = []\n",
    "    \n",
    "    for tupla in lista_tuplas:\n",
    "        string_tupla = \"\"\n",
    "        for elemento in tupla:\n",
    "            string_tupla += str(elemento) + \" \"  # Concatenar cada elemento seguido de un espacio\n",
    "        resultado.append(string_tupla.strip())  # Eliminar el espacio final y agregar a la lista de resultados\n",
    "    \n",
    "    return resultado\n"
   ]
  },
  {
   "cell_type": "markdown",
   "metadata": {},
   "source": [
    "8. Escribe un programa que pida al usuario dos números e intente dividirlos. Si el usuario ingresa un valor no numérico o intenta dividir por cero, maneja esas excepciones de manera adecuada. Asegúrate de mostrar un mensaje indicando si la división fue exitosa o no."
   ]
  },
  {
   "cell_type": "code",
   "execution_count": null,
   "metadata": {},
   "outputs": [
    {
     "name": "stdout",
     "output_type": "stream",
     "text": [
      "División sin éxito. Valor no válido\n"
     ]
    }
   ],
   "source": [
    "try:\n",
    "    numero_1 = int(input(\"Escoja un número\"))\n",
    "    numero_2 = int(input(\"Escoja otro número\"))\n",
    "\n",
    "    resultado = numero_1 / numero_2\n",
    "    print(f\"División exitosa. Resultado: {resultado}\")\n",
    "    \n",
    "except ValueError:\n",
    "    print(\"División sin éxito. Valor no válido\")\n",
    "\n",
    "except ZeroDivisionError:\n",
    "    print(\"División sin éxito. No se puede dividir entre 0\")"
   ]
  },
  {
   "cell_type": "markdown",
   "metadata": {},
   "source": [
    "9. Escribe una función que tome una lista de nombres de mascotas como parámetro y devuelva una nueva lista excluyendo ciertas mascotas prohibidas en España. La lista de mascotas a excluir es [\"Mapache\", \"Tigre\", \"Serpiente Pitón\", \"Cocodrilo\", \"Oso\"].Usa la función filter()"
   ]
  },
  {
   "cell_type": "code",
   "execution_count": 44,
   "metadata": {},
   "outputs": [
    {
     "name": "stdout",
     "output_type": "stream",
     "text": [
      "['Perro', 'Gato', 'Conejo']\n"
     ]
    }
   ],
   "source": [
    "def es_permitida(mascota):\n",
    "    \"\"\"ver cuales son las mascotas que no estan en la lista de prohibidas\n",
    "\n",
    "    Args:\n",
    "        mascota (list): mascotas prohibidas\n",
    "\n",
    "    Returns:\n",
    "        list: mascotas permitidas\n",
    "    \"\"\"\n",
    "    mascotas_prohibidas = [\"Mapache\", \"Tigre\", \"Serpiente Pitón\", \"Cocodrilo\", \"Oso\"]\n",
    "    return mascota not in mascotas_prohibidas\n",
    "\n",
    "def filtrar_mascotas(lista_mascotas):\n",
    "    \"\"\"filtrar las mascotas permitidas\n",
    "\n",
    "    Returns:\n",
    "        list: _description_\n",
    "    \"\"\"\n",
    "    return list(filter(es_permitida, lista_mascotas))\n",
    "\n",
    "\n",
    "lista_mascotas = [\"Perro\", \"Mapache\", \"Tigre\", \"Gato\", \"Serpiente Pitón\", \"Conejo\", \"Cocodrilo\", \"Oso\"]\n",
    "resultado = filtrar_mascotas(lista_mascotas)\n",
    "print(resultado)    "
   ]
  },
  {
   "cell_type": "markdown",
   "metadata": {},
   "source": [
    "10. Escribe una función que reciba una lista de números y calcule su promedio. Si la lista está vacía, lanza una excepción personalizada y maneja el error adecuadamente."
   ]
  },
  {
   "cell_type": "code",
   "execution_count": 63,
   "metadata": {},
   "outputs": [
    {
     "name": "stdout",
     "output_type": "stream",
     "text": [
      "5.0\n"
     ]
    }
   ],
   "source": [
    "def calcular_promedio (lista_numeros):\n",
    "    \"\"\"calcular el promedio\n",
    "\n",
    "    Args:\n",
    "        lista_numeros (list): números aleatorios\n",
    "\n",
    "    Returns:\n",
    "        int: promedio\n",
    "    \"\"\"\n",
    "    try:        \n",
    "        return print(sum(lista_numeros) / len(lista_numeros))\n",
    "    except ZeroDivisionError:\n",
    "        return print('La lista esta vacía')\n",
    "\n",
    "lista = [4,5,6]\n",
    "resultado = calcular_promedio(lista)"
   ]
  },
  {
   "cell_type": "markdown",
   "metadata": {},
   "source": [
    "11. Escribe un programa que pida al usuario que introduzca su edad. Si el usuario ingresa un valor no numérico o un valor fuera del rango esperado (por ejemplo, menor que 0 o mayor que 120, maneja las excepciones adecuadamente."
   ]
  },
  {
   "cell_type": "code",
   "execution_count": 76,
   "metadata": {},
   "outputs": [
    {
     "name": "stdout",
     "output_type": "stream",
     "text": [
      "Tu edad es 66.\n"
     ]
    }
   ],
   "source": [
    "def pedir_edad():\n",
    "    \"\"\"pedir la edad y que esté dentro del rango\n",
    "\n",
    "    Returns:\n",
    "        int: la edad\n",
    "    \"\"\"\n",
    "    try:\n",
    "        edad = int(input(\"¿Qué edad tienes? \"))\n",
    "        \n",
    "        if edad < 0 or edad > 120:\n",
    "            return \"Tu edad está fuera del rango.\"\n",
    "        else:\n",
    "            return f\"Tu edad es {edad}.\"\n",
    "    except ValueError:\n",
    "        return \"Error: Debes introducir un número válido.\"\n",
    "\n",
    "resultado = pedir_edad()\n",
    "print(resultado)"
   ]
  },
  {
   "cell_type": "markdown",
   "metadata": {},
   "source": [
    "12. Genera una función que al recibir una frase devuelva una lista con la longitud de cada palabra. Usa la función map()."
   ]
  },
  {
   "cell_type": "code",
   "execution_count": 90,
   "metadata": {},
   "outputs": [
    {
     "name": "stdout",
     "output_type": "stream",
     "text": [
      "[5, 1, 4, 2, 7, 4, 8, 2, 8, 2, 2, 6]\n"
     ]
    }
   ],
   "source": [
    "def longitud_palabras(frase):\n",
    "    \"\"\"devolver lista con longitud de cada palabra_summary_\n",
    "\n",
    "    Args:\n",
    "        frase (str): frase aleatoria\n",
    "\n",
    "    Returns:\n",
    "        list: longitud de cada palabra\n",
    "    \"\"\"\n",
    "    palabras = frase.split()\n",
    "    \n",
    "    return list(map(len,palabras))\n",
    "\n",
    "frase = 'Vamos a usar la función para calcular el cuadrado de un número'\n",
    "resultado = longitud_palabras(frase)\n",
    "print(resultado)\n",
    "    "
   ]
  },
  {
   "cell_type": "markdown",
   "metadata": {},
   "source": [
    "13. Genera una función la cual, para un conjunto de caracteres, devuelva una lista de tuplas con cada letra en mayúsculas y minúsculas. Las letras no pueden estar repetidas .Usa la función map()"
   ]
  },
  {
   "cell_type": "code",
   "execution_count": 88,
   "metadata": {},
   "outputs": [
    {
     "name": "stdout",
     "output_type": "stream",
     "text": [
      "[('D', 'd'), (' ', ' '), ('H', 'h'), ('U', 'u'), ('A', 'a'), ('O', 'o'), ('M', 'm'), ('N', 'n'), ('L', 'l')]\n"
     ]
    }
   ],
   "source": [
    "# Con ayuda de ChatGPT, no lo acabo de entender\n",
    "\n",
    "def letras_mayus_minus(frase):\n",
    "    # Convertir la frase en un conjunto para eliminar duplicados\n",
    "    letras = (set(frase))\n",
    "\n",
    "    # Crear una lista de tuplas con cada letra en mayúsculas y minúsculas\n",
    "    def convertir_mayus_minus(letra):\n",
    "        return (letra.upper(), letra.lower())\n",
    "\n",
    "    return list(map(convertir_mayus_minus, letras))\n",
    "\n",
    "# Ejemplo de uso\n",
    "frase = \"Hola Mundo\"\n",
    "resultado = letras_mayus_minus(frase)\n",
    "print(resultado)"
   ]
  },
  {
   "cell_type": "markdown",
   "metadata": {},
   "source": [
    "14. Crea una función que retorne las palabras de una lista de palabras que comience con una letra en especifico. Usa la función filter()"
   ]
  },
  {
   "cell_type": "code",
   "execution_count": 91,
   "metadata": {},
   "outputs": [
    {
     "name": "stdout",
     "output_type": "stream",
     "text": [
      "['manzana', 'mango', 'melón']\n"
     ]
    }
   ],
   "source": [
    "def palabras_con_letra(lista_palabras, letra):\n",
    "    # Función auxiliar para verificar si una palabra comienza con la letra especificada\n",
    "    def empieza_con(palabra):\n",
    "        return palabra.startswith(letra)\n",
    "    \n",
    "    # Usar filter() con la función auxiliar\n",
    "    return list(filter(empieza_con, lista_palabras))\n",
    "\n",
    "# Ejemplo de uso\n",
    "lista = [\"manzana\", \"mango\", \"pera\", \"melón\", \"plátano\"]\n",
    "letra = \"m\"\n",
    "resultado = palabras_con_letra(lista, letra)\n",
    "print(resultado)\n"
   ]
  },
  {
   "cell_type": "markdown",
   "metadata": {},
   "source": [
    "15. Crea una función lambda que  sume 3 a cada número de una lista dada."
   ]
  },
  {
   "cell_type": "code",
   "execution_count": 93,
   "metadata": {},
   "outputs": [
    {
     "name": "stdout",
     "output_type": "stream",
     "text": [
      "[4, 5, 6, 7, 8]\n"
     ]
    }
   ],
   "source": [
    "numeros = [1, 2, 3, 4, 5]\n",
    "\n",
    "resultado = list(map(lambda x: x + 3, numeros))\n",
    "\n",
    "print(resultado)"
   ]
  },
  {
   "cell_type": "markdown",
   "metadata": {},
   "source": [
    "16. Escribe una función que tome una cadena de texto y un número entero n como parámetros y devuelva una lista de todas las palabras que sean más largas que n. Usa la función filter()"
   ]
  },
  {
   "cell_type": "code",
   "execution_count": 94,
   "metadata": {},
   "outputs": [
    {
     "name": "stdout",
     "output_type": "stream",
     "text": [
      "['cadena', 'ejemplo', 'palabras', 'diferentes', 'longitudes']\n"
     ]
    }
   ],
   "source": [
    "def palabras_mas_largas(cadena, n):\n",
    "    \"\"\"devuelve una lista de todas las palabras que sean más largas que n\n",
    "\n",
    "    Args:\n",
    "        cadena (str): frase\n",
    "        n (int): número aleatorio\n",
    "\n",
    "    Returns:\n",
    "        list: palabras más largas que n\n",
    "    \"\"\"\n",
    "    palabras = cadena.split()\n",
    "    \n",
    "    return list(filter(lambda palabra: len(palabra) > n, palabras))\n",
    "\n",
    "\n",
    "cadena = \"Esta es una cadena de ejemplo con palabras de diferentes longitudes\"\n",
    "n = 4\n",
    "resultado = palabras_mas_largas(cadena, n)\n",
    "print(resultado)\n"
   ]
  },
  {
   "cell_type": "markdown",
   "metadata": {},
   "source": [
    "17. Crea una función que tome una lista de dígitos y devuelva el número correspondiente. Por ejemplo, [5,7,2] corresponde al número quinientos setenta y dos [572]. Usa la función reduce()"
   ]
  },
  {
   "cell_type": "code",
   "execution_count": 96,
   "metadata": {},
   "outputs": [
    {
     "name": "stdout",
     "output_type": "stream",
     "text": [
      "572\n"
     ]
    }
   ],
   "source": [
    "from functools import reduce\n",
    "\n",
    "def lista_a_numero(lista_digitos):\n",
    "    \n",
    "    return reduce(lambda x, y: x * 10 + y, lista_digitos)\n",
    "\n",
    "lista = [5, 7, 2]\n",
    "resultado = lista_a_numero(lista)\n",
    "print(resultado)\n"
   ]
  },
  {
   "cell_type": "markdown",
   "metadata": {},
   "source": [
    "18. Escribe un programa en Python que cree una lista de diccionarios que contenga información de estudiantes (nombre, edad, calificación) y use la función filter para extraer a los estudiantes con una calificación mayor o igual a 90. Usa la función filter()"
   ]
  },
  {
   "cell_type": "code",
   "execution_count": 99,
   "metadata": {},
   "outputs": [
    {
     "name": "stdout",
     "output_type": "stream",
     "text": [
      "[{'nombre': 'María', 'edad': 22, 'calificacion': 92}, {'nombre': 'Ana', 'edad': 21, 'calificacion': 95}]\n"
     ]
    }
   ],
   "source": [
    "estudiantes = [\n",
    "    {\"nombre\": \"Juan\", \"edad\": 20, \"calificacion\": 85},\n",
    "    {\"nombre\": \"María\", \"edad\": 22, \"calificacion\": 92},\n",
    "    {\"nombre\": \"Luis\", \"edad\": 19, \"calificacion\": 88},\n",
    "    {\"nombre\": \"Ana\", \"edad\": 21, \"calificacion\": 95},\n",
    "]\n",
    "\n",
    "estudiantes_con_alta_calificacion = list(filter(lambda estudiante: estudiante[\"calificacion\"] >= 90, estudiantes))\n",
    "\n",
    "print(estudiantes_con_alta_calificacion)"
   ]
  },
  {
   "cell_type": "markdown",
   "metadata": {},
   "source": [
    "19. Crea una función lambda que filtre los números impares de una lista dada."
   ]
  },
  {
   "cell_type": "code",
   "execution_count": 100,
   "metadata": {},
   "outputs": [
    {
     "name": "stdout",
     "output_type": "stream",
     "text": [
      "[1, 3, 5, 7, 9]\n"
     ]
    }
   ],
   "source": [
    "filtrar_impares = lambda numeros: list(filter(lambda x: x % 2 != 0, numeros))\n",
    "\n",
    "ejemplo_lista = [1, 2, 3, 4, 5, 6, 7, 8, 9, 10]\n",
    "resultado = filtrar_impares(ejemplo_lista)\n",
    "print(resultado)\n"
   ]
  },
  {
   "cell_type": "markdown",
   "metadata": {},
   "source": [
    "20. Para una lista con elementos tipo integer y string obtén una nueva lista sólo con los valores int. Usa la función filter()"
   ]
  },
  {
   "cell_type": "code",
   "execution_count": 106,
   "metadata": {},
   "outputs": [
    {
     "name": "stdout",
     "output_type": "stream",
     "text": [
      "[1, 3, 5, 7]\n"
     ]
    }
   ],
   "source": [
    "lista_mixta = [1, \"juan\", 3, \"helena\", 5, \"python\", 7]\n",
    "\n",
    "filtrar_integers = list(filter(lambda x: type(x) == int, lista_mixta))\n",
    "\n",
    "print(filtrar_integers)"
   ]
  },
  {
   "cell_type": "markdown",
   "metadata": {},
   "source": [
    "21. Crea una función que calcule el cubo de un número dado mediante una función lambda"
   ]
  },
  {
   "cell_type": "code",
   "execution_count": 111,
   "metadata": {},
   "outputs": [
    {
     "name": "stdout",
     "output_type": "stream",
     "text": [
      "27\n"
     ]
    }
   ],
   "source": [
    "cubo = lambda x: x**3\n",
    "\n",
    "numero = 3\n",
    "resultado = cubo(numero)\n",
    "print(resultado)\n"
   ]
  },
  {
   "cell_type": "markdown",
   "metadata": {},
   "source": [
    "22. Dada una lista numérica, obtén el producto total de los valores de dicha lista.Usa la función reduce() ."
   ]
  },
  {
   "cell_type": "code",
   "execution_count": 112,
   "metadata": {},
   "outputs": [
    {
     "name": "stdout",
     "output_type": "stream",
     "text": [
      "120\n"
     ]
    }
   ],
   "source": [
    "from functools import reduce\n",
    "\n",
    "def producto_total(lista):\n",
    "    return reduce(lambda x, y: x * y, lista)\n",
    "\n",
    "# Ejemplo de uso\n",
    "lista_ejemplo = [1, 2, 3, 4, 5]\n",
    "resultado = producto_total(lista_ejemplo)\n",
    "print(resultado)\n"
   ]
  },
  {
   "cell_type": "markdown",
   "metadata": {},
   "source": [
    "23. Concatena una lista de palabras.Usa la función reduce() ."
   ]
  },
  {
   "cell_type": "code",
   "execution_count": 114,
   "metadata": {},
   "outputs": [
    {
     "name": "stdout",
     "output_type": "stream",
     "text": [
      "Juan Maria Javier Pedro Carla\n"
     ]
    }
   ],
   "source": [
    "from functools import reduce\n",
    "\n",
    "def concatenar_palabras(lista):\n",
    "    return reduce(lambda x, y: x + ' ' + y, lista)\n",
    "\n",
    "# Ejemplo de uso\n",
    "palabras = [\"Juan\", \"Maria\", \"Javier\", \"Pedro\", \"Carla\"]\n",
    "resultado = concatenar_palabras(palabras)\n",
    "print(resultado)\n"
   ]
  },
  {
   "cell_type": "markdown",
   "metadata": {},
   "source": [
    "24. Calcula la diferencia total en los valores de una lista. Usa la función reduce() ."
   ]
  },
  {
   "cell_type": "code",
   "execution_count": 115,
   "metadata": {},
   "outputs": [
    {
     "name": "stdout",
     "output_type": "stream",
     "text": [
      "-33\n"
     ]
    }
   ],
   "source": [
    "from functools import reduce\n",
    "\n",
    "def diferencia_total(lista):\n",
    "    return reduce(lambda x, y: x - y, lista)\n",
    "\n",
    "# Ejemplo de uso\n",
    "valores = [5,8,10,20]\n",
    "resultado = diferencia_total(valores)\n",
    "print(resultado)"
   ]
  },
  {
   "cell_type": "markdown",
   "metadata": {},
   "source": [
    "25. Crea una función que cuente el número de caracteres en una cadena de texto dada."
   ]
  },
  {
   "cell_type": "code",
   "execution_count": 116,
   "metadata": {},
   "outputs": [
    {
     "name": "stdout",
     "output_type": "stream",
     "text": [
      "53\n"
     ]
    }
   ],
   "source": [
    "def contar_caracteres (frase):\n",
    "\n",
    "    return len(frase)\n",
    "\n",
    "frase_ejemplo = \"cuente el número de caracteres en una cadena de texto\"\n",
    "resultado = contar_caracteres(frase_ejemplo)\n",
    "print(resultado)"
   ]
  },
  {
   "cell_type": "markdown",
   "metadata": {},
   "source": [
    "26. Crea una función lambda que calcule el resto de la división entre dos números dados."
   ]
  },
  {
   "cell_type": "code",
   "execution_count": 117,
   "metadata": {},
   "outputs": [
    {
     "name": "stdout",
     "output_type": "stream",
     "text": [
      "1\n"
     ]
    }
   ],
   "source": [
    "resto = lambda x, y: x % y\n",
    "\n",
    "numero1 = 10\n",
    "numero2 = 3\n",
    "resultado = resto(numero1, numero2)\n",
    "print(resultado)\n"
   ]
  },
  {
   "cell_type": "markdown",
   "metadata": {},
   "source": [
    "27. Crea una función que calcule el promedio de una lista de números."
   ]
  },
  {
   "cell_type": "code",
   "execution_count": 119,
   "metadata": {},
   "outputs": [
    {
     "name": "stdout",
     "output_type": "stream",
     "text": [
      "41.6\n"
     ]
    }
   ],
   "source": [
    "def calcular_promedio(lista):\n",
    "\n",
    "    return sum(lista) / len(lista)\n",
    "\n",
    "numeros = [10, 22, 36, 40, 52]\n",
    "promedio = calcular_promedio(numeros)\n",
    "print(promedio)"
   ]
  },
  {
   "cell_type": "markdown",
   "metadata": {},
   "source": [
    "28. Crea una función que busque y devuelva el primer elemento duplicado en una lista dada."
   ]
  },
  {
   "cell_type": "code",
   "execution_count": 121,
   "metadata": {},
   "outputs": [
    {
     "name": "stdout",
     "output_type": "stream",
     "text": [
      "2\n"
     ]
    }
   ],
   "source": [
    "# Hecho con ChatGPT, no lo acabo de entender\n",
    "\n",
    "def primer_duplicado(lista):\n",
    "    \n",
    "    for i in range(len(lista)):\n",
    "        # Comparar el elemento actual con los siguientes elementos\n",
    "        for j in range(i + 1, len(lista)):\n",
    "            if lista[i] == lista[j]:\n",
    "                return lista[i]\n",
    "    # Si no hay duplicados, devolver None\n",
    "    return None\n",
    "\n",
    "# Ejemplo de uso\n",
    "lista = [1, 2, 3, 4, 2, 5]  # Primer duplicado: 2\n",
    "\n",
    "print(primer_duplicado(lista))  # Salida: 2\n"
   ]
  },
  {
   "cell_type": "markdown",
   "metadata": {},
   "source": [
    "29. Crea una función que convierta una variable en una cadena de texto y enmascare todos los caracteres  con el carácter '#', excepto los últimos cuatro."
   ]
  },
  {
   "cell_type": "code",
   "execution_count": 123,
   "metadata": {},
   "outputs": [
    {
     "name": "stdout",
     "output_type": "stream",
     "text": [
      "['#####6789', '#2345', 'abcd', 'a', '#####4321']\n"
     ]
    }
   ],
   "source": [
    "# Hecho con ChatGPT, no lo acabo de entender\n",
    "\n",
    "def enmascarar_variable(variable):\n",
    "    \n",
    "    variable_str = str(variable)\n",
    "\n",
    "    longitud = len(variable_str)\n",
    "    if longitud <= 4:\n",
    "        return variable_str  \n",
    "    return '#' * (longitud - 4) + variable_str[-4:]\n",
    "\n",
    "ejemplos = [\"123456789\", 12345, \"abcd\", \"a\", 987654321]\n",
    "resultados = [enmascarar_variable(ejemplo) for ejemplo in ejemplos]\n",
    "print(resultados)\n"
   ]
  },
  {
   "cell_type": "markdown",
   "metadata": {},
   "source": [
    "30. Crea una función que determine si dos palabras son anagramas, es decir, si están formadas por las mismas letras pero en diferente orden."
   ]
  },
  {
   "cell_type": "code",
   "execution_count": 125,
   "metadata": {},
   "outputs": [
    {
     "name": "stdout",
     "output_type": "stream",
     "text": [
      "True\n",
      "False\n"
     ]
    }
   ],
   "source": [
    "def son_anagramas(palabra1, palabra2):\n",
    "    \"\"\"determinar si dos palabras son anagramas\n",
    "\n",
    "    Args:\n",
    "        palabra1 (str): palabra aleatoria\n",
    "        palabra2 (str): palabra aleatoria\n",
    "\n",
    "    Returns:\n",
    "        boolean: verdadero o falso\n",
    "    \"\"\"\n",
    "    return sorted(palabra1.lower()) == sorted(palabra2.lower())\n",
    "\n",
    "print(son_anagramas(\"listen\", \"silent\"))\n",
    "print(son_anagramas(\"hola\", \"adios\"))\n"
   ]
  },
  {
   "cell_type": "markdown",
   "metadata": {},
   "source": [
    "31. Crea una función que solicite al usuario ingresar una lista de nombres y luego solicite un nombre para buscar en esa lista. Si el nombre está en la lista, se imprime un mensaje indicando que fue encontrado, de lo contrario, se lanza una excepción."
   ]
  },
  {
   "cell_type": "code",
   "execution_count": null,
   "metadata": {},
   "outputs": [
    {
     "name": "stdout",
     "output_type": "stream",
     "text": [
      "El nombre 'Javi' no fue encontrado en la lista.\n",
      "El nombre 'Javi' no fue encontrado en la lista.\n"
     ]
    }
   ],
   "source": [
    "## No se por qué me da dos resultados iguales cuando no se encuentra el nombre\n",
    "def buscar_nombre():\n",
    "    \n",
    "    lista_nombres = input(\"Ingresa una lista de nombres separados por comas: \").split(\",\")\n",
    "    \n",
    "    nombre_a_buscar = input(\"Ingresa el nombre que deseas buscar: \")\n",
    "    \n",
    "    for nombre in lista_nombres:\n",
    "        if nombre_a_buscar in lista_nombres:\n",
    "            print(f\"El nombre {nombre_a_buscar} fue encontrado en la lista\")\n",
    "            \n",
    "            break\n",
    "        else: \n",
    "            print(f\"El nombre '{nombre_a_buscar}' no fue encontrado en la lista.\")\n",
    "            \n",
    "buscar_nombre()"
   ]
  },
  {
   "cell_type": "markdown",
   "metadata": {},
   "source": [
    "32. Crea una función que tome un nombre completo y una lista de empleados, busque el nombre completo en la lista y devuelve el puesto del empleado si está en la lista, de lo contrario, devuelve un mensaje indicando que la persona\n",
    "no trabaja aquí."
   ]
  },
  {
   "cell_type": "code",
   "execution_count": 7,
   "metadata": {},
   "outputs": [
    {
     "name": "stdout",
     "output_type": "stream",
     "text": [
      "Juan Pérez trabaja como Gerente.\n",
      "Ana Torres no trabaja aquí.\n"
     ]
    }
   ],
   "source": [
    "def buscar_empleado(nombre_completo, lista_empleados):\n",
    "\n",
    "    for empleado in lista_empleados:\n",
    "        if empleado[\"nombre\"] == nombre_completo:  \n",
    "            return f\"{nombre_completo} trabaja como {empleado['puesto']}.\"\n",
    "\n",
    "    return f\"{nombre_completo} no trabaja aquí.\"\n",
    "\n",
    "\n",
    "empleados = [\n",
    "    {\"nombre\": \"Juan Pérez\", \"puesto\": \"Gerente\"},\n",
    "    {\"nombre\": \"María López\", \"puesto\": \"Desarrolladora\"},\n",
    "    {\"nombre\": \"Carlos García\", \"puesto\": \"Analista\"},\n",
    "]\n",
    "\n",
    "\n",
    "print(buscar_empleado(\"Juan Pérez\", empleados))  \n",
    "print(buscar_empleado(\"Ana Torres\", empleados))  \n",
    "\n"
   ]
  },
  {
   "cell_type": "markdown",
   "metadata": {},
   "source": [
    "33. Crea una función lambda que sume elementos correspondientes de dos listas dadas."
   ]
  },
  {
   "cell_type": "code",
   "execution_count": 8,
   "metadata": {},
   "outputs": [
    {
     "name": "stdout",
     "output_type": "stream",
     "text": [
      "[5, 7, 9]\n"
     ]
    }
   ],
   "source": [
    "sumar_listas = lambda lista1, lista2: list(map(lambda x, y: x + y, lista1, lista2))\n",
    "\n",
    "lista1 = [1, 2, 3]\n",
    "lista2 = [4, 5, 6]\n",
    "resultado = sumar_listas(lista1, lista2)\n",
    "print(resultado)"
   ]
  },
  {
   "cell_type": "markdown",
   "metadata": {},
   "source": [
    "34. Crea la clase Arbol , define un árbol genérico con un tronco y ramas como atributos. Los métodos disponibles son: crecer_tronco , nueva_rama , crecer_ramas , quitar_rama e info_arbol . El objetivo es implementar estos métodos para manipular la estructura del árbol."
   ]
  },
  {
   "cell_type": "code",
   "execution_count": 10,
   "metadata": {},
   "outputs": [
    {
     "name": "stdout",
     "output_type": "stream",
     "text": [
      "Longitud del tronco: 2\n",
      "Número de ramas: 2\n",
      "Longitudes de las ramas: [2, 1]\n"
     ]
    }
   ],
   "source": [
    "class Arbol:\n",
    "    def __init__(self):\n",
    "        # Inicializar el árbol con un tronco de longitud 1 y una lista vacía de ramas\n",
    "        self.tronco = 1\n",
    "        self.ramas = []\n",
    "\n",
    "    def crecer_tronco(self):\n",
    "        \"\"\"Aumenta la longitud del tronco en una unidad.\"\"\"\n",
    "        self.tronco += 1\n",
    "\n",
    "    def nueva_rama(self):\n",
    "        \"\"\"Agrega una nueva rama de longitud 1 a la lista de ramas.\"\"\"\n",
    "        self.ramas.append(1)\n",
    "\n",
    "    def crecer_ramas(self):\n",
    "        \"\"\"Aumenta en una unidad la longitud de todas las ramas existentes.\"\"\"\n",
    "        self.ramas = [rama + 1 for rama in self.ramas]\n",
    "\n",
    "    def quitar_rama(self, posicion):\n",
    "        \"\"\"Elimina una rama en una posición específica.\"\"\"\n",
    "        if 0 <= posicion < len(self.ramas):\n",
    "            self.ramas.pop(posicion)\n",
    "        else:\n",
    "            print(\"Posición inválida. No se puede quitar la rama.\")\n",
    "\n",
    "    def info_arbol(self):\n",
    "        \"\"\"Devuelve información sobre el tronco, el número de ramas y sus longitudes.\"\"\"\n",
    "        return {\n",
    "            \"longitud_tronco\": self.tronco,\n",
    "            \"numero_ramas\": len(self.ramas),\n",
    "            \"longitudes_ramas\": self.ramas,\n",
    "        }\n",
    "\n",
    "\n",
    "# Caso de uso\n",
    "# 1. Crear un árbol\n",
    "mi_arbol = Arbol()\n",
    "\n",
    "# 2. Hacer crecer el tronco del árbol una unidad\n",
    "mi_arbol.crecer_tronco()\n",
    "\n",
    "# 3. Añadir una nueva rama al árbol\n",
    "mi_arbol.nueva_rama()\n",
    "\n",
    "# 4. Hacer crecer todas las ramas del árbol una unidad\n",
    "mi_arbol.crecer_ramas()\n",
    "\n",
    "# 5. Añadir dos nuevas ramas al árbol\n",
    "mi_arbol.nueva_rama()\n",
    "mi_arbol.nueva_rama()\n",
    "\n",
    "# 6. Retirar la rama situada en la posición 2\n",
    "mi_arbol.quitar_rama(2)\n",
    "\n",
    "# 7. Obtener información sobre el árbol\n",
    "info = mi_arbol.info_arbol()\n",
    "print(f\"Longitud del tronco: {info['longitud_tronco']}\")\n",
    "print(f\"Número de ramas: {info['numero_ramas']}\")\n",
    "print(f\"Longitudes de las ramas: {info['longitudes_ramas']}\")\n"
   ]
  },
  {
   "cell_type": "markdown",
   "metadata": {},
   "source": [
    "36. Crea la clase UsuarioBanco ,representa a un usuario de un banco con su nombre, saldo y si tiene o no cuenta corriente. Proporciona métodos para realizar operaciones como retirar dinero, transferir dinero desde otro usuario y agregar dinero al saldo."
   ]
  },
  {
   "cell_type": "code",
   "execution_count": 5,
   "metadata": {},
   "outputs": [
    {
     "name": "stdout",
     "output_type": "stream",
     "text": [
      "Bob ha agregado 20 unidades. Saldo actual: 70\n",
      "Error: Bob no tiene suficiente saldo para transferir 80 unidades.\n",
      "Alicia ha retirado 50 unidades. Saldo actual: 100\n"
     ]
    }
   ],
   "source": [
    "class UsuarioBanco:\n",
    "    def __init__(self, nombre, saldo, cuenta_corriente):\n",
    "        self.nombre = nombre\n",
    "        self.saldo = saldo\n",
    "        self.cuenta_corriente = cuenta_corriente\n",
    "        \n",
    "    def retirar_dinero(self,cantidad):\n",
    "        if cantidad > self.saldo:\n",
    "            print(f\"Error: {self.nombre} no tiene suficiente saldo para retirar {cantidad} unidades.\")\n",
    "            return \n",
    "        self.saldo - cantidad \n",
    "        print(f\"{self.nombre} ha retirado {cantidad} unidades. Saldo actual: {self.saldo}\")\n",
    "    \n",
    "    def transferir_dinero(self,otro_usuario,cantidad):\n",
    "        if cantidad > otro_usuario.saldo:\n",
    "            print(f\"Error: {otro_usuario.nombre} no tiene suficiente saldo para transferir {cantidad} unidades.\")\n",
    "            return \n",
    "        otro_usuario.saldo -= cantidad\n",
    "        self.saldo += cantidad\n",
    "        print(f\"{otro_usuario.nombre} ha transferido {cantidad} unidades a {self.nombre}.\")\n",
    "        print(f\"Saldo de {otro_usuario.nombre}: {otro_usuario.saldo}\")\n",
    "        print(f\"Saldo de {self.nombre}: {self.saldo}\")\n",
    "        \n",
    "    def agregar_dinero(self, cantidad):\n",
    "        \"\"\"Agrega dinero al saldo del usuario.\"\"\"\n",
    "        self.saldo += cantidad\n",
    "        print(f\"{self.nombre} ha agregado {cantidad} unidades. Saldo actual: {self.saldo}\")\n",
    "\n",
    "\n",
    "# Caso de uso\n",
    "\n",
    "# Crear dos usuarios: Alicia y Bob\n",
    "alicia = UsuarioBanco(\"Alicia\", 100, True)\n",
    "bob = UsuarioBanco(\"Bob\", 50, True)\n",
    "\n",
    "# Agregar 20 unidades de saldo a Bob\n",
    "bob.agregar_dinero(20)\n",
    "\n",
    "# Hacer una transferencia de 80 unidades desde Bob a Alicia\n",
    "alicia.transferir_dinero(bob, 80)\n",
    "\n",
    "# Retirar 50 unidades de saldo a Alicia\n",
    "alicia.retirar_dinero(50)"
   ]
  },
  {
   "cell_type": "markdown",
   "metadata": {},
   "source": [
    "37. Crea una función llamada procesar_texto que procesa un texto según la opción especificada: contar_palabras , reemplazar_palabras , eliminar_palabra . Estas opciones son otras funciones que tenemos que definir primero y llamar dentro de la función procesar_texto ."
   ]
  },
  {
   "cell_type": "code",
   "execution_count": 7,
   "metadata": {},
   "outputs": [
    {
     "name": "stdout",
     "output_type": "stream",
     "text": [
      "Contar palabras:\n",
      "{'este': 2, 'es': 1, 'un': 1, 'ejemplo': 3, 'de': 1, 'texto': 1, 'con': 1, 'varias': 1, 'palabras': 1}\n",
      "\n",
      "Reemplazar palabras:\n",
      "este es un muestra de texto con varias palabras este muestra muestra\n",
      "\n",
      "Eliminar palabra:\n",
      "este es un de texto con varias palabras este\n"
     ]
    }
   ],
   "source": [
    "# Función para contar el número de veces que aparece cada palabra en el texto\n",
    "def contar_palabras(texto):\n",
    "    palabras = texto.split()\n",
    "    conteo = {}\n",
    "    for palabra in palabras:\n",
    "        if palabra in conteo:\n",
    "            conteo[palabra] += 1\n",
    "        else:\n",
    "            conteo[palabra] = 1\n",
    "    return conteo\n",
    "\n",
    "# Función para reemplazar una palabra en el texto por otra\n",
    "def reemplazar_palabras(texto, palabra_original, palabra_nueva):\n",
    "    return texto.replace(palabra_original, palabra_nueva)\n",
    "\n",
    "# Función para eliminar una palabra del texto\n",
    "def eliminar_palabra(texto, palabra_a_eliminar):\n",
    "    palabras = texto.split()\n",
    "    palabras_filtradas = [palabra for palabra in palabras if palabra != palabra_a_eliminar]\n",
    "    return \" \".join(palabras_filtradas)\n",
    "\n",
    "# Función principal para procesar el texto según la opción indicada\n",
    "def procesar_texto(opcion, texto, *args):\n",
    "    if opcion == \"contar\":\n",
    "        return contar_palabras(texto)\n",
    "    elif opcion == \"reemplazar\":\n",
    "        if len(args) < 2:\n",
    "            return \"Error: Se necesitan dos argumentos para reemplazar palabras.\"\n",
    "        return reemplazar_palabras(texto, args[0], args[1])\n",
    "    elif opcion == \"eliminar\":\n",
    "        if len(args) < 1:\n",
    "            return \"Error: Se necesita un argumento para eliminar una palabra.\"\n",
    "        return eliminar_palabra(texto, args[0])\n",
    "    else:\n",
    "        return \"Error: Opción no válida.\"\n",
    "\n",
    "# Caso de uso\n",
    "texto_ejemplo = \"este es un ejemplo de texto con varias palabras este ejemplo ejemplo\"\n",
    "\n",
    "# Contar palabras\n",
    "print(\"Contar palabras:\")\n",
    "print(procesar_texto(\"contar\", texto_ejemplo))\n",
    "# Salida: {'este': 2, 'es': 1, 'un': 1, 'ejemplo': 3, 'de': 1, 'texto': 1, 'con': 1, 'varias': 1, 'palabras': 1}\n",
    "\n",
    "# Reemplazar una palabra\n",
    "print(\"\\nReemplazar palabras:\")\n",
    "print(procesar_texto(\"reemplazar\", texto_ejemplo, \"ejemplo\", \"muestra\"))\n",
    "# Salida: \"este es un muestra de texto con varias palabras este muestra muestra\"\n",
    "\n",
    "# Eliminar una palabra\n",
    "print(\"\\nEliminar palabra:\")\n",
    "print(procesar_texto(\"eliminar\", texto_ejemplo, \"ejemplo\"))\n",
    "# Salida: \"este es un de texto con varias palabras este\"\n"
   ]
  },
  {
   "cell_type": "markdown",
   "metadata": {},
   "source": [
    "38. Genera un programa que nos diga si es de noche, de día o tarde según la hora proporcionada por el usuario."
   ]
  },
  {
   "cell_type": "code",
   "execution_count": 10,
   "metadata": {},
   "outputs": [
    {
     "name": "stdout",
     "output_type": "stream",
     "text": [
      "Es de tarde.\n"
     ]
    }
   ],
   "source": [
    "def determinar_momento_del_dia(hora):\n",
    "    \n",
    "    if 6 <= hora < 12:\n",
    "        return \"Es de día (mañana).\"\n",
    "    elif 12 <= hora < 18:\n",
    "        return \"Es de tarde.\"\n",
    "    elif (18 <= hora <= 23) or (0 <= hora < 6):\n",
    "        return \"Es de noche.\"\n",
    "    else:\n",
    "        return \"Hora no válida. Por favor, introduce un número entre 0 y 23.\"\n",
    "\n",
    "\n",
    "try:\n",
    "    hora = int(input(\"Introduce la hora actual (en formato 24 horas, entre 0 y 23): \"))\n",
    "    print(determinar_momento_del_dia(hora))\n",
    "except ValueError:\n",
    "    print(\"Error: Por favor, introduce un número entero válido.\")\n"
   ]
  },
  {
   "cell_type": "markdown",
   "metadata": {},
   "source": [
    "39. Escribe un programa que determine qué calificación en texto tiene un alumno en base a su calificación numérica."
   ]
  },
  {
   "cell_type": "code",
   "execution_count": 12,
   "metadata": {},
   "outputs": [
    {
     "name": "stdout",
     "output_type": "stream",
     "text": [
      "La calificación en texto es: Bien\n"
     ]
    }
   ],
   "source": [
    "def determinar_calificacion(calificacion):\n",
    "\n",
    "    if 0 <= calificacion <= 69:\n",
    "        return \"Insuficiente\"\n",
    "    elif 70 <= calificacion <= 79:\n",
    "        return \"Bien\"\n",
    "    elif 80 <= calificacion <= 89:\n",
    "        return \"Muy bien\"\n",
    "    elif 90 <= calificacion <= 100:\n",
    "        return \"Excelente\"\n",
    "    else:\n",
    "        return \"Calificación no válida. Por favor, introduce un número entre 0 y 100.\"\n",
    "\n",
    "try:\n",
    "    calificacion = int(input(\"Introduce la calificación del alumno (entre 0 y 100): \"))\n",
    "    resultado = determinar_calificacion(calificacion)\n",
    "    print(f\"La calificación en texto es: {resultado}\")\n",
    "except ValueError:\n",
    "    print(\"Error: Por favor, introduce un número entero válido.\")\n"
   ]
  },
  {
   "cell_type": "markdown",
   "metadata": {},
   "source": [
    "40. Escribe una función que tome dos parámetros: figura (una cadena que puede ser \"rectangulo\" , \"circulo\" o \"triangulo\" ) y datos (una tupla con los datos necesarios para calcular el área de la figura)."
   ]
  },
  {
   "cell_type": "code",
   "execution_count": 16,
   "metadata": {},
   "outputs": [
    {
     "name": "stdout",
     "output_type": "stream",
     "text": [
      "50\n",
      "153.86\n",
      "24.0\n",
      "Error: Figura no válida. Usa 'rectangulo', 'circulo' o 'triangulo'.\n"
     ]
    }
   ],
   "source": [
    "def calcular_area(figura, datos):\n",
    "\n",
    "    if figura == \"rectangulo\":\n",
    "        if len(datos) == 2:\n",
    "            base, altura = datos\n",
    "            return base * altura\n",
    "        else:\n",
    "            return \"Error: Para un rectángulo se necesitan dos valores (base y altura).\"\n",
    "    \n",
    "    elif figura == \"circulo\":\n",
    "        if len(datos) == 1:\n",
    "            radio, = datos\n",
    "            return 3.14 * (radio ** 2)\n",
    "        else:\n",
    "            return \"Error: Para un círculo se necesita un valor (radio).\"\n",
    "    \n",
    "    elif figura == \"triangulo\":\n",
    "        if len(datos) == 2:\n",
    "            base, altura = datos\n",
    "            return (base * altura) / 2\n",
    "        else:\n",
    "            return \"Error: Para un triángulo se necesitan dos valores (base y altura).\"\n",
    "    \n",
    "    else:\n",
    "        return \"Error: Figura no válida. Usa 'rectangulo', 'circulo' o 'triangulo'.\"\n",
    "\n",
    "\n",
    "print(calcular_area(\"rectangulo\", (5, 10)))  \n",
    "print(calcular_area(\"circulo\", (7,)))        \n",
    "print(calcular_area(\"triangulo\", (6, 8)))    \n",
    "print(calcular_area(\"cuadrado\", (4, 4)))     "
   ]
  },
  {
   "cell_type": "markdown",
   "metadata": {},
   "source": [
    "41. En este ejercicio, se te pedirá que escribas un programa en Python que utilice condicionales para determinar el monto final de una compra en una tienda en línea, después de aplicar un descuento. El programa debe hacer lo\n",
    "siguiente:"
   ]
  },
  {
   "cell_type": "code",
   "execution_count": 17,
   "metadata": {},
   "outputs": [
    {
     "name": "stdout",
     "output_type": "stream",
     "text": [
      "No se aplicó ningún descuento. El precio final es: 56.00€\n"
     ]
    }
   ],
   "source": [
    "def calcular_precio_final():\n",
    "    # Paso 1: Solicitar al usuario el precio original del artículo\n",
    "    try:\n",
    "        precio_original = float(input(\"Ingresa el precio original del artículo (€): \"))\n",
    "        if precio_original <= 0:\n",
    "            print(\"El precio debe ser mayor a 0.\")\n",
    "            return\n",
    "    except ValueError:\n",
    "        print(\"Por favor, ingresa un número válido para el precio.\")\n",
    "        return\n",
    "\n",
    "    # Paso 2: Preguntar si tiene un cupón de descuento\n",
    "    tiene_cupon = input(\"¿Tienes un cupón de descuento? (sí o no): \").strip().lower()\n",
    "\n",
    "    # Paso 3 y 4: Si tiene cupón, solicitar el valor y aplicarlo\n",
    "    if tiene_cupon == \"sí\":\n",
    "        try:\n",
    "            valor_cupon = float(input(\"Ingresa el valor del cupón de descuento (€): \"))\n",
    "            if valor_cupon > 0:\n",
    "                precio_final = precio_original - valor_cupon\n",
    "                if precio_final < 0:\n",
    "                    precio_final = 0  # Asegurarse de que el precio final no sea negativo\n",
    "                print(f\"El precio final después de aplicar el descuento es: {precio_final:.2f}€\")\n",
    "            else:\n",
    "                print(\"El valor del cupón debe ser mayor a 0. No se aplicará ningún descuento.\")\n",
    "                print(f\"El precio final es: {precio_original:.2f}€\")\n",
    "        except ValueError:\n",
    "            print(\"Por favor, ingresa un número válido para el valor del cupón.\")\n",
    "    elif tiene_cupon == \"no\":\n",
    "        # Si no tiene cupón, mostrar el precio original\n",
    "        print(f\"No se aplicó ningún descuento. El precio final es: {precio_original:.2f}€\")\n",
    "    else:\n",
    "        # Respuesta inválida para la pregunta del cupón\n",
    "        print(\"Respuesta no válida. Por favor, responde 'sí' o 'no'.\")\n",
    "\n",
    "# Llamar a la función\n",
    "calcular_precio_final()"
   ]
  }
 ],
 "metadata": {
  "kernelspec": {
   "display_name": "Python 3",
   "language": "python",
   "name": "python3"
  },
  "language_info": {
   "codemirror_mode": {
    "name": "ipython",
    "version": 3
   },
   "file_extension": ".py",
   "mimetype": "text/x-python",
   "name": "python",
   "nbconvert_exporter": "python",
   "pygments_lexer": "ipython3",
   "version": "3.13.0"
  }
 },
 "nbformat": 4,
 "nbformat_minor": 2
}
